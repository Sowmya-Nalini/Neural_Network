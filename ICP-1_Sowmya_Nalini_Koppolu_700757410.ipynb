{
 "cells": [
  {
   "cell_type": "code",
   "execution_count": 26,
   "id": "a888fd91",
   "metadata": {
    "scrolled": true
   },
   "outputs": [
    {
     "name": "stdout",
     "output_type": "stream",
     "text": [
      "Input a String: Python\n",
      "notP\n"
     ]
    }
   ],
   "source": [
    "''' 1. Input the string “Python” as a list of characters from console, delete at least 2 characters, reverse the\n",
    "resultant string and print it  '''\n",
    "\n",
    "import random\n",
    "list_characters=input(\"Input a String: \")\n",
    "length=len(list_characters)\n",
    "random_index=random.sample(range(length),2)\n",
    "for i in random_index:\n",
    "    list_characters=list_characters.replace(list_characters[i],'')\n",
    "print(list_characters[::-1])\n"
   ]
  },
  {
   "cell_type": "code",
   "execution_count": 23,
   "id": "5e42e4c7",
   "metadata": {},
   "outputs": [
    {
     "name": "stdout",
     "output_type": "stream",
     "text": [
      "4 \n",
      "2\n",
      "6 2 8 2.0 2 0 16\n"
     ]
    }
   ],
   "source": [
    "a=int(input())\n",
    "b=int(input())\n",
    "print(a+b ,a-b ,a*b ,a/b ,a//b ,a%b , a**b)"
   ]
  },
  {
   "cell_type": "code",
   "execution_count": 25,
   "id": "62b28285",
   "metadata": {},
   "outputs": [
    {
     "name": "stdout",
     "output_type": "stream",
     "text": [
      "Input a String: I love playing python\n",
      "I love playing pythons\n"
     ]
    }
   ],
   "source": [
    "'''2. Write a program that accepts a sentence and replace each occurrence of ‘python’ with ‘pythons’.'''\n",
    "\n",
    "input_string=input(\"Input a String: \")\n",
    "x=input_string.replace('python','pythons')\n",
    "print(x)"
   ]
  },
  {
   "cell_type": "code",
   "execution_count": 24,
   "id": "c5525680",
   "metadata": {},
   "outputs": [
    {
     "name": "stdout",
     "output_type": "stream",
     "text": [
      "Enter the Percentage: 95\n",
      "A grade\n"
     ]
    }
   ],
   "source": [
    "'''3. Use the if statement conditions to write a program to print the letter grade based on an input class score. Use the\n",
    "grading scheme we are using in this class.   '''\n",
    "\n",
    "\n",
    "Percentage=float(input('Enter the Percentage: '))\n",
    "if(Percentage>100):\n",
    "    print('Check the Percentage you have entered')\n",
    "elif(Percentage >=90):\n",
    "    print('A grade')\n",
    "elif(Percentage>=80):\n",
    "    print('B grade')\n",
    "elif(Percentage>=70):\n",
    "    print('C grade')\n",
    "elif(Percentage>=60):\n",
    "    print('D grade')\n",
    "else:\n",
    "    print('F grade')"
   ]
  },
  {
   "cell_type": "code",
   "execution_count": null,
   "id": "048a5237",
   "metadata": {},
   "outputs": [],
   "source": []
  }
 ],
 "metadata": {
  "kernelspec": {
   "display_name": "Python 3 (ipykernel)",
   "language": "python",
   "name": "python3"
  },
  "language_info": {
   "codemirror_mode": {
    "name": "ipython",
    "version": 3
   },
   "file_extension": ".py",
   "mimetype": "text/x-python",
   "name": "python",
   "nbconvert_exporter": "python",
   "pygments_lexer": "ipython3",
   "version": "3.11.5"
  }
 },
 "nbformat": 4,
 "nbformat_minor": 5
}
